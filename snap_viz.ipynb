{
 "cells": [
  {
   "cell_type": "markdown",
   "metadata": {},
   "source": [
    "# EDA on snapdeal scrapped mobile phones data"
   ]
  },
  {
   "cell_type": "code",
   "execution_count": 38,
   "metadata": {},
   "outputs": [],
   "source": [
    "#import libary for use method\n",
    "import pandas as pd\n",
    "import numpy as np\n",
    "import seaborn as sns\n",
    "import matplotlib.pyplot as plt\n",
    "%matplotlib inline\n",
    "sns.set_style('whitegrid')\n",
    "import warnings\n",
    "warnings.filterwarnings('ignore')"
   ]
  },
  {
   "cell_type": "code",
   "execution_count": 39,
   "metadata": {},
   "outputs": [
    {
     "data": {
      "text/html": [
       "<div>\n",
       "<style scoped>\n",
       "    .dataframe tbody tr th:only-of-type {\n",
       "        vertical-align: middle;\n",
       "    }\n",
       "\n",
       "    .dataframe tbody tr th {\n",
       "        vertical-align: top;\n",
       "    }\n",
       "\n",
       "    .dataframe thead th {\n",
       "        text-align: right;\n",
       "    }\n",
       "</style>\n",
       "<table border=\"1\" class=\"dataframe\">\n",
       "  <thead>\n",
       "    <tr style=\"text-align: right;\">\n",
       "      <th></th>\n",
       "      <th>Prod Name</th>\n",
       "      <th>Color</th>\n",
       "      <th>Rating</th>\n",
       "      <th>Price</th>\n",
       "      <th>RAM</th>\n",
       "      <th>Screen</th>\n",
       "      <th>Rear Camera</th>\n",
       "      <th>Front Camera</th>\n",
       "      <th>Memory</th>\n",
       "      <th>Battery</th>\n",
       "      <th>Processor</th>\n",
       "    </tr>\n",
       "  </thead>\n",
       "  <tbody>\n",
       "    <tr>\n",
       "      <th>0</th>\n",
       "      <td>Redmi 9 Prime ( 64GB , 4 GB )</td>\n",
       "      <td>Blue</td>\n",
       "      <td>4.5</td>\n",
       "      <td>10799</td>\n",
       "      <td>4 GB</td>\n",
       "      <td>16.51 cm (6.5)</td>\n",
       "      <td>13MP+8MP+2MP</td>\n",
       "      <td>8 MP</td>\n",
       "      <td>64GB</td>\n",
       "      <td>5020</td>\n",
       "      <td>Octa</td>\n",
       "    </tr>\n",
       "    <tr>\n",
       "      <th>1</th>\n",
       "      <td>itel A25 pro ( 32GB , 2 GB )</td>\n",
       "      <td>Purple</td>\n",
       "      <td>4.0</td>\n",
       "      <td>5599</td>\n",
       "      <td>2 GB</td>\n",
       "      <td>12.7 cm (5)</td>\n",
       "      <td>5 MP</td>\n",
       "      <td>2 MP</td>\n",
       "      <td>32GB</td>\n",
       "      <td>3020</td>\n",
       "      <td>Quad</td>\n",
       "    </tr>\n",
       "    <tr>\n",
       "      <th>2</th>\n",
       "      <td>Redmi Note 9 ( 128GB , 4 GB )</td>\n",
       "      <td>Green</td>\n",
       "      <td>4.0</td>\n",
       "      <td>14499</td>\n",
       "      <td>4 GB</td>\n",
       "      <td>16.51 cm (6.5)</td>\n",
       "      <td>48 MP</td>\n",
       "      <td>13 MP</td>\n",
       "      <td>128GB</td>\n",
       "      <td>5020</td>\n",
       "      <td>Octa</td>\n",
       "    </tr>\n",
       "    <tr>\n",
       "      <th>3</th>\n",
       "      <td>Blackberry ( 16GB , 2 GB )</td>\n",
       "      <td>Black</td>\n",
       "      <td>3.4</td>\n",
       "      <td>6999</td>\n",
       "      <td>2GB</td>\n",
       "      <td>12.7 cm (5)</td>\n",
       "      <td>8 MP</td>\n",
       "      <td>2MP to 4.9MP</td>\n",
       "      <td>16GB</td>\n",
       "      <td>2800</td>\n",
       "      <td>Dual</td>\n",
       "    </tr>\n",
       "    <tr>\n",
       "      <th>4</th>\n",
       "      <td>Redmi Note 9 ( 64GB , 4 GB )</td>\n",
       "      <td>Grey</td>\n",
       "      <td>4.4</td>\n",
       "      <td>13999</td>\n",
       "      <td>4 GB</td>\n",
       "      <td>16.51 cm (6.5)</td>\n",
       "      <td>48MP+8MP+2MP+2MP</td>\n",
       "      <td>13 MP</td>\n",
       "      <td>64GB</td>\n",
       "      <td>5020 mAh</td>\n",
       "      <td>Octa</td>\n",
       "    </tr>\n",
       "    <tr>\n",
       "      <th>...</th>\n",
       "      <td>...</td>\n",
       "      <td>...</td>\n",
       "      <td>...</td>\n",
       "      <td>...</td>\n",
       "      <td>...</td>\n",
       "      <td>...</td>\n",
       "      <td>...</td>\n",
       "      <td>...</td>\n",
       "      <td>...</td>\n",
       "      <td>...</td>\n",
       "      <td>...</td>\n",
       "    </tr>\n",
       "    <tr>\n",
       "      <th>154</th>\n",
       "      <td>Oppo A5 2020 ( 64GB , 4 GB )</td>\n",
       "      <td>Black</td>\n",
       "      <td>4.0</td>\n",
       "      <td>13990</td>\n",
       "      <td>4 GB</td>\n",
       "      <td>16.51 cm (6.5)</td>\n",
       "      <td>12 MP</td>\n",
       "      <td>8 MP</td>\n",
       "      <td>64GB</td>\n",
       "      <td>5000 mAH Lithium Polymer</td>\n",
       "      <td>Octa</td>\n",
       "    </tr>\n",
       "    <tr>\n",
       "      <th>155</th>\n",
       "      <td>Micromax Yu Yutopia 5050 ( 32GB , 4 GB )</td>\n",
       "      <td>Graphite</td>\n",
       "      <td>2.3</td>\n",
       "      <td>7099</td>\n",
       "      <td>4 GB</td>\n",
       "      <td>13.208 cm (5.2)</td>\n",
       "      <td>21 MP</td>\n",
       "      <td>8 MP</td>\n",
       "      <td>32GB</td>\n",
       "      <td>3000</td>\n",
       "      <td>Octa</td>\n",
       "    </tr>\n",
       "    <tr>\n",
       "      <th>156</th>\n",
       "      <td>Oppo F17 ( 128GB , 6 GB )</td>\n",
       "      <td>Blue</td>\n",
       "      <td>1.0</td>\n",
       "      <td>16990</td>\n",
       "      <td>6 GB</td>\n",
       "      <td>16.256 cm (6.4)</td>\n",
       "      <td>16MP+8MP+2MP</td>\n",
       "      <td>16 MP</td>\n",
       "      <td>128GB</td>\n",
       "      <td>4015 mAh</td>\n",
       "      <td>Quad</td>\n",
       "    </tr>\n",
       "    <tr>\n",
       "      <th>157</th>\n",
       "      <td>Oppo F17 ( 128GB , 6 GB )</td>\n",
       "      <td>Silver</td>\n",
       "      <td>1.0</td>\n",
       "      <td>16990</td>\n",
       "      <td>6 GB</td>\n",
       "      <td>16.256 cm (6.4)</td>\n",
       "      <td>16MP+8MP+2MP</td>\n",
       "      <td>16 MP</td>\n",
       "      <td>128GB</td>\n",
       "      <td>4015 mAh</td>\n",
       "      <td>Quad</td>\n",
       "    </tr>\n",
       "    <tr>\n",
       "      <th>158</th>\n",
       "      <td>Oppo F17 ( 128GB , 6 GB )</td>\n",
       "      <td>Orange</td>\n",
       "      <td>1.0</td>\n",
       "      <td>16990</td>\n",
       "      <td>6 GB</td>\n",
       "      <td>16.256 cm (6.4)</td>\n",
       "      <td>16MP+8MP+2MP</td>\n",
       "      <td>16 MP</td>\n",
       "      <td>128GB</td>\n",
       "      <td>4015 mAh</td>\n",
       "      <td>Quad</td>\n",
       "    </tr>\n",
       "  </tbody>\n",
       "</table>\n",
       "<p>159 rows × 11 columns</p>\n",
       "</div>"
      ],
      "text/plain": [
       "                                    Prod Name     Color Rating  Price   RAM  \\\n",
       "0               Redmi 9 Prime ( 64GB , 4 GB )      Blue    4.5  10799  4 GB   \n",
       "1                itel A25 pro ( 32GB , 2 GB )    Purple    4.0   5599  2 GB   \n",
       "2               Redmi Note 9 ( 128GB , 4 GB )     Green    4.0  14499  4 GB   \n",
       "3                  Blackberry ( 16GB , 2 GB )     Black    3.4   6999   2GB   \n",
       "4                Redmi Note 9 ( 64GB , 4 GB )      Grey    4.4  13999  4 GB   \n",
       "..                                        ...       ...    ...    ...   ...   \n",
       "154              Oppo A5 2020 ( 64GB , 4 GB )     Black    4.0  13990  4 GB   \n",
       "155  Micromax Yu Yutopia 5050 ( 32GB , 4 GB )  Graphite    2.3   7099  4 GB   \n",
       "156                 Oppo F17 ( 128GB , 6 GB )      Blue    1.0  16990  6 GB   \n",
       "157                 Oppo F17 ( 128GB , 6 GB )    Silver    1.0  16990  6 GB   \n",
       "158                 Oppo F17 ( 128GB , 6 GB )    Orange    1.0  16990  6 GB   \n",
       "\n",
       "              Screen       Rear Camera  Front Camera Memory  \\\n",
       "0     16.51 cm (6.5)      13MP+8MP+2MP          8 MP   64GB   \n",
       "1        12.7 cm (5)              5 MP          2 MP   32GB   \n",
       "2     16.51 cm (6.5)             48 MP         13 MP  128GB   \n",
       "3        12.7 cm (5)              8 MP  2MP to 4.9MP   16GB   \n",
       "4     16.51 cm (6.5)  48MP+8MP+2MP+2MP         13 MP   64GB   \n",
       "..               ...               ...           ...    ...   \n",
       "154   16.51 cm (6.5)             12 MP          8 MP   64GB   \n",
       "155  13.208 cm (5.2)             21 MP          8 MP   32GB   \n",
       "156  16.256 cm (6.4)      16MP+8MP+2MP         16 MP  128GB   \n",
       "157  16.256 cm (6.4)      16MP+8MP+2MP         16 MP  128GB   \n",
       "158  16.256 cm (6.4)      16MP+8MP+2MP         16 MP  128GB   \n",
       "\n",
       "                      Battery Processor  \n",
       "0                        5020      Octa  \n",
       "1                        3020      Quad  \n",
       "2                        5020      Octa  \n",
       "3                        2800      Dual  \n",
       "4                    5020 mAh      Octa  \n",
       "..                        ...       ...  \n",
       "154  5000 mAH Lithium Polymer      Octa  \n",
       "155                      3000      Octa  \n",
       "156                  4015 mAh      Quad  \n",
       "157                  4015 mAh      Quad  \n",
       "158                  4015 mAh      Quad  \n",
       "\n",
       "[159 rows x 11 columns]"
      ]
     },
     "execution_count": 39,
     "metadata": {},
     "output_type": "execute_result"
    }
   ],
   "source": [
    "#load dataset\n",
    "df = pd.read_csv('snapdeal_csv.csv')\n",
    "# df.drop('Unnamed: 0',axis='columns', inplace=True)\n",
    "df"
   ]
  },
  {
   "cell_type": "code",
   "execution_count": 40,
   "metadata": {},
   "outputs": [
    {
     "name": "stdout",
     "output_type": "stream",
     "text": [
      "<class 'pandas.core.frame.DataFrame'>\n",
      "RangeIndex: 159 entries, 0 to 158\n",
      "Data columns (total 11 columns):\n",
      " #   Column        Non-Null Count  Dtype \n",
      "---  ------        --------------  ----- \n",
      " 0   Prod Name     159 non-null    object\n",
      " 1   Color         159 non-null    object\n",
      " 2   Rating        159 non-null    object\n",
      " 3   Price         159 non-null    object\n",
      " 4   RAM           159 non-null    object\n",
      " 5   Screen        159 non-null    object\n",
      " 6   Rear Camera   159 non-null    object\n",
      " 7   Front Camera  159 non-null    object\n",
      " 8   Memory        159 non-null    object\n",
      " 9   Battery       159 non-null    object\n",
      " 10  Processor     159 non-null    object\n",
      "dtypes: object(11)\n",
      "memory usage: 13.8+ KB\n"
     ]
    }
   ],
   "source": [
    "df.info()"
   ]
  },
  {
   "cell_type": "code",
   "execution_count": null,
   "metadata": {},
   "outputs": [],
   "source": [
    "#check null values"
   ]
  },
  {
   "cell_type": "code",
   "execution_count": 41,
   "metadata": {},
   "outputs": [
    {
     "data": {
      "text/plain": [
       "Prod Name       0\n",
       "Color           0\n",
       "Rating          0\n",
       "Price           0\n",
       "RAM             0\n",
       "Screen          0\n",
       "Rear Camera     0\n",
       "Front Camera    0\n",
       "Memory          0\n",
       "Battery         0\n",
       "Processor       0\n",
       "dtype: int64"
      ]
     },
     "execution_count": 41,
     "metadata": {},
     "output_type": "execute_result"
    }
   ],
   "source": [
    "df.isnull().sum()"
   ]
  },
  {
   "cell_type": "code",
   "execution_count": 42,
   "metadata": {
    "scrolled": true
   },
   "outputs": [
    {
     "data": {
      "image/png": "[encoded data removed]",
      "text/plain": [
       "<Figure size 432x288 with 1 Axes>"
      ]
     },
     "metadata": {},
     "output_type": "display_data"
    }
   ],
   "source": [
    "sns.heatmap(df.isnull(), cbar=False)\n",
    "plt.show();"
   ]
  },
  {
   "cell_type": "code",
   "execution_count": null,
   "metadata": {},
   "outputs": [],
   "source": [
    "# check duplicte values"
   ]
  },
  {
   "cell_type": "code",
   "execution_count": 43,
   "metadata": {
    "scrolled": true
   },
   "outputs": [
    {
     "data": {
      "text/plain": [
       "0"
      ]
     },
     "execution_count": 43,
     "metadata": {},
     "output_type": "execute_result"
    }
   ],
   "source": [
    "df.duplicated().sum()"
   ]
  },
  {
   "cell_type": "code",
   "execution_count": 44,
   "metadata": {
    "scrolled": false
   },
   "outputs": [
    {
     "data": {
      "text/html": [
       "<div>\n",
       "<style scoped>\n",
       "    .dataframe tbody tr th:only-of-type {\n",
       "        vertical-align: middle;\n",
       "    }\n",
       "\n",
       "    .dataframe tbody tr th {\n",
       "        vertical-align: top;\n",
       "    }\n",
       "\n",
       "    .dataframe thead th {\n",
       "        text-align: right;\n",
       "    }\n",
       "</style>\n",
       "<table border=\"1\" class=\"dataframe\">\n",
       "  <thead>\n",
       "    <tr style=\"text-align: right;\">\n",
       "      <th></th>\n",
       "      <th>Prod Name</th>\n",
       "      <th>Color</th>\n",
       "      <th>Rating</th>\n",
       "      <th>Price</th>\n",
       "      <th>RAM</th>\n",
       "      <th>Screen</th>\n",
       "      <th>Rear Camera</th>\n",
       "      <th>Front Camera</th>\n",
       "      <th>Memory</th>\n",
       "      <th>Battery</th>\n",
       "      <th>Processor</th>\n",
       "    </tr>\n",
       "  </thead>\n",
       "  <tbody>\n",
       "  </tbody>\n",
       "</table>\n",
       "</div>"
      ],
      "text/plain": [
       "Empty DataFrame\n",
       "Columns: [Prod Name, Color, Rating, Price, RAM, Screen, Rear Camera, Front Camera, Memory, Battery, Processor]\n",
       "Index: []"
      ]
     },
     "execution_count": 44,
     "metadata": {},
     "output_type": "execute_result"
    }
   ],
   "source": [
    "df_dup=df[df.duplicated()]\n",
    "df_dup\n"
   ]
  },
  {
   "cell_type": "code",
   "execution_count": 45,
   "metadata": {},
   "outputs": [
    {
     "data": {
      "text/plain": [
       "(159, 11)"
      ]
     },
     "execution_count": 45,
     "metadata": {},
     "output_type": "execute_result"
    }
   ],
   "source": [
    "df.shape"
   ]
  },
  {
   "cell_type": "code",
   "execution_count": 46,
   "metadata": {},
   "outputs": [],
   "source": [
    "df=df.drop_duplicates() "
   ]
  },
  {
   "cell_type": "code",
   "execution_count": 47,
   "metadata": {},
   "outputs": [
    {
     "data": {
      "text/plain": [
       "(159, 11)"
      ]
     },
     "execution_count": 47,
     "metadata": {},
     "output_type": "execute_result"
    }
   ],
   "source": [
    "df.shape"
   ]
  },
  {
   "cell_type": "code",
   "execution_count": 48,
   "metadata": {},
   "outputs": [
    {
     "data": {
      "text/plain": [
       "0"
      ]
     },
     "execution_count": 48,
     "metadata": {},
     "output_type": "execute_result"
    }
   ],
   "source": [
    "df.duplicated().sum()"
   ]
  },
  {
   "cell_type": "code",
   "execution_count": 49,
   "metadata": {},
   "outputs": [
    {
     "name": "stdout",
     "output_type": "stream",
     "text": [
      "Redmi Note 9 Pro ( 64GB , 4 GB )                4\n",
      "Redmi Note 9 Pro ( 128GB , 4 GB )               3\n",
      "Redmi Note 9 ( 64GB , 4 GB )                    3\n",
      "INFINIX Hot 9 Pro ( 64GB , 4 GB )               3\n",
      "Redmi 8A Dual ( 32GB , 2 GB )                   3\n",
      "                                               ..\n",
      "Micromax Yu Yutopia 5050 ( 32GB , 4 GB )        1\n",
      "Realme C3 ( 64GB , 4 GB )                       1\n",
      "Realme 7 ( 64GB , 6 GB )                        1\n",
      "Coolpad Cool 5 ( 64GB , 4 GB )                  1\n",
      "Micromax Canvas Infinity HS2 ( 32GB , 3 GB )    1\n",
      "Name: Prod Name, Length: 109, dtype: int64\n",
      "\n",
      "Black        51\n",
      "Blue         39\n",
      "White        19\n",
      "Green        14\n",
      "Gold          7\n",
      "Grey          7\n",
      "Red           6\n",
      "Purple        5\n",
      "Champagne     4\n",
      "Orange        2\n",
      "Silver        2\n",
      "Graphite      1\n",
      "Flare         1\n",
      "Ninja         1\n",
      "Name: Color, dtype: int64\n",
      "\n",
      "Currently Unavailable    38\n",
      "5.0                      16\n",
      "4.0                      15\n",
      "4.4                       8\n",
      "3.7                       7\n",
      "2.0                       7\n",
      "3.0                       7\n",
      "4.5                       6\n",
      "1.0                       6\n",
      "3.6                       5\n",
      "3.3                       5\n",
      "3.8                       5\n",
      "4.3                       4\n",
      "4.6                       4\n",
      "3.9                       4\n",
      "3.5                       4\n",
      "2.5                       3\n",
      "3.4                       3\n",
      "3.2                       2\n",
      "4.1                       2\n",
      "4.2                       2\n",
      "2.8                       1\n",
      "4.8                       1\n",
      "3.1                       1\n",
      "2.9                       1\n",
      "2.3                       1\n",
      "4.7                       1\n",
      "Name: Rating, dtype: int64\n",
      "\n",
      "Currently Unavailable    10\n",
      "8999                     10\n",
      "16990                     8\n",
      "11999                     6\n",
      "9999                      5\n",
      "                         ..\n",
      "16199                     1\n",
      "16998                     1\n",
      "4199                      1\n",
      "1999                      1\n",
      "9100                      1\n",
      "Name: Price, Length: 81, dtype: int64\n",
      "\n",
      "4 GB      53\n",
      "6 GB      27\n",
      "2 GB      27\n",
      "3 GB      27\n",
      "8 GB      11\n",
      "1 GB      10\n",
      "256 MB     3\n",
      "2GB        1\n",
      "Name: RAM, dtype: int64\n",
      "\n",
      "16.51 cm (6.5)     48\n",
      "12.7 cm (5)        19\n",
      "15.74 cm (6.2)     18\n",
      "16.25 cm (6.4)     14\n",
      "16.76 cm (6.6)      8\n",
      "17 cm (6.7)         8\n",
      "15.49 cm (6.1)      6\n",
      "16.256 cm (6.4)     6\n",
      "13.716 cm (5.4)     5\n",
      "13.97 cm (5.5)      4\n",
      "16.4 cm (6.44)      3\n",
      "17.27 cm (6.8)      2\n",
      "4.826 cm (1.9)      2\n",
      "14.986 cm (5.9)     2\n",
      "14.478 cm (5.7)     2\n",
      "16 cm (6.3)         2\n",
      "15.24 cm (6)        1\n",
      "10.16 cm (4)        1\n",
      "6.858 cm (2.7)      1\n",
      "7.62 cm (3)         1\n",
      "13.462 cm (5.3)     1\n",
      "6.096 cm (2.4)      1\n",
      "13.208 cm (5.2)     1\n",
      "11.938 cm (4.7)     1\n",
      "6.35 cm (2.5)       1\n",
      "15.95 cm (6.3)      1\n",
      "Name: Screen, dtype: int64\n",
      "\n",
      "13 MP                      39\n",
      "48MP+8MP+2MP+2MP           16\n",
      "8 MP                       14\n",
      "12 MP                      11\n",
      "5 MP                       10\n",
      "13MP+2MP                    9\n",
      "48 MP                       8\n",
      "48M+8M+2M+2M                7\n",
      "13MP + 2MP + 2MP            7\n",
      "16MP+8MP+2MP                6\n",
      "64MP                        5\n",
      "13MP+8MP+2MP                5\n",
      "12M+2M+2M                   4\n",
      "2 MP                        4\n",
      "64MP + 13MP + 8MP + 2MP     3\n",
      "21 MP                       2\n",
      "0.3 MP                      2\n",
      "12+8+2+2MP                  2\n",
      "16 MP                       2\n",
      "15 MP                       1\n",
      "24 MP                       1\n",
      "16 MP + 2 MP                1\n",
      "Name: Rear Camera, dtype: int64\n",
      "\n",
      "5 MP            42\n",
      "16 MP           40\n",
      "8 MP            38\n",
      "13 MP           10\n",
      "2 MP             9\n",
      "32 MP            5\n",
      "No               4\n",
      "20 MP            2\n",
      "44MP+2MP         2\n",
      "24MP             1\n",
      "13 MP + MP       1\n",
      "1.3 MP           1\n",
      "12 MP            1\n",
      "2MP to 4.9MP     1\n",
      "1 MP             1\n",
      "1.2 MP           1\n",
      "Name: Front Camera, dtype: int64\n",
      "\n",
      "32GB      47\n",
      "64GB      45\n",
      "128GB     38\n",
      "16GB      16\n",
      "8GB        5\n",
      "64 MB      2\n",
      "256 MB     2\n",
      "128 MB     2\n",
      "256GB      1\n",
      "64 GB      1\n",
      "Name: Memory, dtype: int64\n",
      "\n",
      "5000                                     36\n",
      "4000                                     12\n",
      "3000                                      9\n",
      "5000 mAh                                  9\n",
      "4015 mAh                                  8\n",
      "5020                                      7\n",
      "4000mAh                                   6\n",
      "6000                                      6\n",
      "2500                                      6\n",
      "5030 mAh                                  4\n",
      "4300                                      4\n",
      "4230mAh                                   3\n",
      "5020 mAh                                  3\n",
      "4230mAH                                   3\n",
      "3100                                      3\n",
      "3020                                      3\n",
      "4025 mAh                                  2\n",
      "5035 mAh                                  2\n",
      "4230                                      2\n",
      "5000 mAH Lithium Polymer                  2\n",
      "2350 mAh                                  2\n",
      "4000 mAh                                  2\n",
      "4500                                      2\n",
      "1000                                      2\n",
      "4100mAh                                   2\n",
      "2800                                      1\n",
      "4500 mAh                                  1\n",
      "20                                        1\n",
      "3080mah                                   1\n",
      "2000                                      1\n",
      "Non-removable Li-Ion 2650 mAh battery     1\n",
      "3340                                      1\n",
      "5036 mAh                                  1\n",
      "5041 mAh                                  1\n",
      "1810 mAh                                  1\n",
      "850                                       1\n",
      "2450 mAh                                  1\n",
      "2300 mAh                                  1\n",
      "2900                                      1\n",
      "3400                                      1\n",
      "3500 mAh                                  1\n",
      "2350mAh                                   1\n",
      "4035 mAh                                  1\n",
      "3000mah                                   1\n",
      "Name: Battery, dtype: int64\n",
      "\n",
      "Octa      113\n",
      "Quad       38\n",
      "Dual        6\n",
      "Single      2\n",
      "Name: Processor, dtype: int64\n",
      "\n"
     ]
    }
   ],
   "source": [
    "#frequency of object features\n",
    "for col in df.columns:\n",
    "    if df[col].dtype==\"object\":\n",
    "        print(df[col].value_counts())\n",
    "        print()"
   ]
  },
  {
   "cell_type": "code",
   "execution_count": 50,
   "metadata": {},
   "outputs": [],
   "source": [
    "df[\"RAM\"].replace(\"2GB\",\"2 GB\",inplace=True)"
   ]
  },
  {
   "cell_type": "code",
   "execution_count": 51,
   "metadata": {},
   "outputs": [],
   "source": [
    "df[\"Battery\"].replace(\"Non-removable Li-Ion 2650 mAh battery\",\"2650\",inplace=True)"
   ]
  },
  {
   "cell_type": "code",
   "execution_count": 52,
   "metadata": {},
   "outputs": [
    {
     "data": {
      "text/html": [
       "<div>\n",
       "<style scoped>\n",
       "    .dataframe tbody tr th:only-of-type {\n",
       "        vertical-align: middle;\n",
       "    }\n",
       "\n",
       "    .dataframe tbody tr th {\n",
       "        vertical-align: top;\n",
       "    }\n",
       "\n",
       "    .dataframe thead th {\n",
       "        text-align: right;\n",
       "    }\n",
       "</style>\n",
       "<table border=\"1\" class=\"dataframe\">\n",
       "  <thead>\n",
       "    <tr style=\"text-align: right;\">\n",
       "      <th></th>\n",
       "      <th>Prod Name</th>\n",
       "      <th>Color</th>\n",
       "      <th>Rating</th>\n",
       "      <th>Price</th>\n",
       "      <th>RAM</th>\n",
       "      <th>Screen</th>\n",
       "      <th>Rear Camera</th>\n",
       "      <th>Front Camera</th>\n",
       "      <th>Memory</th>\n",
       "      <th>Battery</th>\n",
       "      <th>Processor</th>\n",
       "    </tr>\n",
       "  </thead>\n",
       "  <tbody>\n",
       "    <tr>\n",
       "      <th>0</th>\n",
       "      <td>Redmi 9 Prime ( 64GB , 4 GB )</td>\n",
       "      <td>Blue</td>\n",
       "      <td>4.5</td>\n",
       "      <td>10799</td>\n",
       "      <td>4 GB</td>\n",
       "      <td>16.51 cm (6.5)</td>\n",
       "      <td>13MP+8MP+2MP</td>\n",
       "      <td>8 MP</td>\n",
       "      <td>64GB</td>\n",
       "      <td>5020</td>\n",
       "      <td>Octa</td>\n",
       "    </tr>\n",
       "    <tr>\n",
       "      <th>1</th>\n",
       "      <td>itel A25 pro ( 32GB , 2 GB )</td>\n",
       "      <td>Purple</td>\n",
       "      <td>4.0</td>\n",
       "      <td>5599</td>\n",
       "      <td>2 GB</td>\n",
       "      <td>12.7 cm (5)</td>\n",
       "      <td>5 MP</td>\n",
       "      <td>2 MP</td>\n",
       "      <td>32GB</td>\n",
       "      <td>3020</td>\n",
       "      <td>Quad</td>\n",
       "    </tr>\n",
       "    <tr>\n",
       "      <th>2</th>\n",
       "      <td>Redmi Note 9 ( 128GB , 4 GB )</td>\n",
       "      <td>Green</td>\n",
       "      <td>4.0</td>\n",
       "      <td>14499</td>\n",
       "      <td>4 GB</td>\n",
       "      <td>16.51 cm (6.5)</td>\n",
       "      <td>48 MP</td>\n",
       "      <td>13 MP</td>\n",
       "      <td>128GB</td>\n",
       "      <td>5020</td>\n",
       "      <td>Octa</td>\n",
       "    </tr>\n",
       "    <tr>\n",
       "      <th>3</th>\n",
       "      <td>Blackberry ( 16GB , 2 GB )</td>\n",
       "      <td>Black</td>\n",
       "      <td>3.4</td>\n",
       "      <td>6999</td>\n",
       "      <td>2 GB</td>\n",
       "      <td>12.7 cm (5)</td>\n",
       "      <td>8 MP</td>\n",
       "      <td>2MP to 4.9MP</td>\n",
       "      <td>16GB</td>\n",
       "      <td>2800</td>\n",
       "      <td>Dual</td>\n",
       "    </tr>\n",
       "    <tr>\n",
       "      <th>4</th>\n",
       "      <td>Redmi Note 9 ( 64GB , 4 GB )</td>\n",
       "      <td>Grey</td>\n",
       "      <td>4.4</td>\n",
       "      <td>13999</td>\n",
       "      <td>4 GB</td>\n",
       "      <td>16.51 cm (6.5)</td>\n",
       "      <td>48MP+8MP+2MP+2MP</td>\n",
       "      <td>13 MP</td>\n",
       "      <td>64GB</td>\n",
       "      <td>5020 mAh</td>\n",
       "      <td>Octa</td>\n",
       "    </tr>\n",
       "    <tr>\n",
       "      <th>...</th>\n",
       "      <td>...</td>\n",
       "      <td>...</td>\n",
       "      <td>...</td>\n",
       "      <td>...</td>\n",
       "      <td>...</td>\n",
       "      <td>...</td>\n",
       "      <td>...</td>\n",
       "      <td>...</td>\n",
       "      <td>...</td>\n",
       "      <td>...</td>\n",
       "      <td>...</td>\n",
       "    </tr>\n",
       "    <tr>\n",
       "      <th>154</th>\n",
       "      <td>Oppo A5 2020 ( 64GB , 4 GB )</td>\n",
       "      <td>Black</td>\n",
       "      <td>4.0</td>\n",
       "      <td>13990</td>\n",
       "      <td>4 GB</td>\n",
       "      <td>16.51 cm (6.5)</td>\n",
       "      <td>12 MP</td>\n",
       "      <td>8 MP</td>\n",
       "      <td>64GB</td>\n",
       "      <td>5000 mAH Lithium Polymer</td>\n",
       "      <td>Octa</td>\n",
       "    </tr>\n",
       "    <tr>\n",
       "      <th>155</th>\n",
       "      <td>Micromax Yu Yutopia 5050 ( 32GB , 4 GB )</td>\n",
       "      <td>Graphite</td>\n",
       "      <td>2.3</td>\n",
       "      <td>7099</td>\n",
       "      <td>4 GB</td>\n",
       "      <td>13.208 cm (5.2)</td>\n",
       "      <td>21 MP</td>\n",
       "      <td>8 MP</td>\n",
       "      <td>32GB</td>\n",
       "      <td>3000</td>\n",
       "      <td>Octa</td>\n",
       "    </tr>\n",
       "    <tr>\n",
       "      <th>156</th>\n",
       "      <td>Oppo F17 ( 128GB , 6 GB )</td>\n",
       "      <td>Blue</td>\n",
       "      <td>1.0</td>\n",
       "      <td>16990</td>\n",
       "      <td>6 GB</td>\n",
       "      <td>16.256 cm (6.4)</td>\n",
       "      <td>16MP+8MP+2MP</td>\n",
       "      <td>16 MP</td>\n",
       "      <td>128GB</td>\n",
       "      <td>4015 mAh</td>\n",
       "      <td>Quad</td>\n",
       "    </tr>\n",
       "    <tr>\n",
       "      <th>157</th>\n",
       "      <td>Oppo F17 ( 128GB , 6 GB )</td>\n",
       "      <td>Silver</td>\n",
       "      <td>1.0</td>\n",
       "      <td>16990</td>\n",
       "      <td>6 GB</td>\n",
       "      <td>16.256 cm (6.4)</td>\n",
       "      <td>16MP+8MP+2MP</td>\n",
       "      <td>16 MP</td>\n",
       "      <td>128GB</td>\n",
       "      <td>4015 mAh</td>\n",
       "      <td>Quad</td>\n",
       "    </tr>\n",
       "    <tr>\n",
       "      <th>158</th>\n",
       "      <td>Oppo F17 ( 128GB , 6 GB )</td>\n",
       "      <td>Orange</td>\n",
       "      <td>1.0</td>\n",
       "      <td>16990</td>\n",
       "      <td>6 GB</td>\n",
       "      <td>16.256 cm (6.4)</td>\n",
       "      <td>16MP+8MP+2MP</td>\n",
       "      <td>16 MP</td>\n",
       "      <td>128GB</td>\n",
       "      <td>4015 mAh</td>\n",
       "      <td>Quad</td>\n",
       "    </tr>\n",
       "  </tbody>\n",
       "</table>\n",
       "<p>159 rows × 11 columns</p>\n",
       "</div>"
      ],
      "text/plain": [
       "                                    Prod Name     Color Rating  Price   RAM  \\\n",
       "0               Redmi 9 Prime ( 64GB , 4 GB )      Blue    4.5  10799  4 GB   \n",
       "1                itel A25 pro ( 32GB , 2 GB )    Purple    4.0   5599  2 GB   \n",
       "2               Redmi Note 9 ( 128GB , 4 GB )     Green    4.0  14499  4 GB   \n",
       "3                  Blackberry ( 16GB , 2 GB )     Black    3.4   6999  2 GB   \n",
       "4                Redmi Note 9 ( 64GB , 4 GB )      Grey    4.4  13999  4 GB   \n",
       "..                                        ...       ...    ...    ...   ...   \n",
       "154              Oppo A5 2020 ( 64GB , 4 GB )     Black    4.0  13990  4 GB   \n",
       "155  Micromax Yu Yutopia 5050 ( 32GB , 4 GB )  Graphite    2.3   7099  4 GB   \n",
       "156                 Oppo F17 ( 128GB , 6 GB )      Blue    1.0  16990  6 GB   \n",
       "157                 Oppo F17 ( 128GB , 6 GB )    Silver    1.0  16990  6 GB   \n",
       "158                 Oppo F17 ( 128GB , 6 GB )    Orange    1.0  16990  6 GB   \n",
       "\n",
       "              Screen       Rear Camera  Front Camera Memory  \\\n",
       "0     16.51 cm (6.5)      13MP+8MP+2MP          8 MP   64GB   \n",
       "1        12.7 cm (5)              5 MP          2 MP   32GB   \n",
       "2     16.51 cm (6.5)             48 MP         13 MP  128GB   \n",
       "3        12.7 cm (5)              8 MP  2MP to 4.9MP   16GB   \n",
       "4     16.51 cm (6.5)  48MP+8MP+2MP+2MP         13 MP   64GB   \n",
       "..               ...               ...           ...    ...   \n",
       "154   16.51 cm (6.5)             12 MP          8 MP   64GB   \n",
       "155  13.208 cm (5.2)             21 MP          8 MP   32GB   \n",
       "156  16.256 cm (6.4)      16MP+8MP+2MP         16 MP  128GB   \n",
       "157  16.256 cm (6.4)      16MP+8MP+2MP         16 MP  128GB   \n",
       "158  16.256 cm (6.4)      16MP+8MP+2MP         16 MP  128GB   \n",
       "\n",
       "                      Battery Processor  \n",
       "0                        5020      Octa  \n",
       "1                        3020      Quad  \n",
       "2                        5020      Octa  \n",
       "3                        2800      Dual  \n",
       "4                    5020 mAh      Octa  \n",
       "..                        ...       ...  \n",
       "154  5000 mAH Lithium Polymer      Octa  \n",
       "155                      3000      Octa  \n",
       "156                  4015 mAh      Quad  \n",
       "157                  4015 mAh      Quad  \n",
       "158                  4015 mAh      Quad  \n",
       "\n",
       "[159 rows x 11 columns]"
      ]
     },
     "execution_count": 52,
     "metadata": {},
     "output_type": "execute_result"
    }
   ],
   "source": [
    "df.replace({'Rear Camera' : { 'Medium' : 2, 'Small' : 1, 'High' : 3 }})"
   ]
  },
  {
   "cell_type": "code",
   "execution_count": 53,
   "metadata": {},
   "outputs": [],
   "source": [
    "battery = [i.split(\"m\")[0].replace(\" \", '') for i in df[\"Battery\"]]\n",
    "df[\"Battery\"]=battery"
   ]
  },
  {
   "cell_type": "code",
   "execution_count": 54,
   "metadata": {},
   "outputs": [],
   "source": [
    "df[\"Memory\"].replace(\"64 GB\",\"64GB\",inplace=True)"
   ]
  },
  {
   "cell_type": "code",
   "execution_count": 55,
   "metadata": {},
   "outputs": [
    {
     "name": "stdout",
     "output_type": "stream",
     "text": [
      "Redmi Note 9 Pro ( 64GB , 4 GB )                4\n",
      "Redmi Note 9 Pro ( 128GB , 4 GB )               3\n",
      "Redmi Note 9 ( 64GB , 4 GB )                    3\n",
      "INFINIX Hot 9 Pro ( 64GB , 4 GB )               3\n",
      "Redmi 8A Dual ( 32GB , 2 GB )                   3\n",
      "                                               ..\n",
      "Micromax Yu Yutopia 5050 ( 32GB , 4 GB )        1\n",
      "Realme C3 ( 64GB , 4 GB )                       1\n",
      "Realme 7 ( 64GB , 6 GB )                        1\n",
      "Coolpad Cool 5 ( 64GB , 4 GB )                  1\n",
      "Micromax Canvas Infinity HS2 ( 32GB , 3 GB )    1\n",
      "Name: Prod Name, Length: 109, dtype: int64\n",
      "\n",
      "Black        51\n",
      "Blue         39\n",
      "White        19\n",
      "Green        14\n",
      "Gold          7\n",
      "Grey          7\n",
      "Red           6\n",
      "Purple        5\n",
      "Champagne     4\n",
      "Orange        2\n",
      "Silver        2\n",
      "Graphite      1\n",
      "Flare         1\n",
      "Ninja         1\n",
      "Name: Color, dtype: int64\n",
      "\n",
      "Currently Unavailable    38\n",
      "5.0                      16\n",
      "4.0                      15\n",
      "4.4                       8\n",
      "3.7                       7\n",
      "2.0                       7\n",
      "3.0                       7\n",
      "4.5                       6\n",
      "1.0                       6\n",
      "3.6                       5\n",
      "3.3                       5\n",
      "3.8                       5\n",
      "4.3                       4\n",
      "4.6                       4\n",
      "3.9                       4\n",
      "3.5                       4\n",
      "2.5                       3\n",
      "3.4                       3\n",
      "3.2                       2\n",
      "4.1                       2\n",
      "4.2                       2\n",
      "2.8                       1\n",
      "4.8                       1\n",
      "3.1                       1\n",
      "2.9                       1\n",
      "2.3                       1\n",
      "4.7                       1\n",
      "Name: Rating, dtype: int64\n",
      "\n",
      "Currently Unavailable    10\n",
      "8999                     10\n",
      "16990                     8\n",
      "11999                     6\n",
      "9999                      5\n",
      "                         ..\n",
      "16199                     1\n",
      "16998                     1\n",
      "4199                      1\n",
      "1999                      1\n",
      "9100                      1\n",
      "Name: Price, Length: 81, dtype: int64\n",
      "\n",
      "4 GB      53\n",
      "2 GB      28\n",
      "6 GB      27\n",
      "3 GB      27\n",
      "8 GB      11\n",
      "1 GB      10\n",
      "256 MB     3\n",
      "Name: RAM, dtype: int64\n",
      "\n",
      "16.51 cm (6.5)     48\n",
      "12.7 cm (5)        19\n",
      "15.74 cm (6.2)     18\n",
      "16.25 cm (6.4)     14\n",
      "16.76 cm (6.6)      8\n",
      "17 cm (6.7)         8\n",
      "15.49 cm (6.1)      6\n",
      "16.256 cm (6.4)     6\n",
      "13.716 cm (5.4)     5\n",
      "13.97 cm (5.5)      4\n",
      "16.4 cm (6.44)      3\n",
      "17.27 cm (6.8)      2\n",
      "4.826 cm (1.9)      2\n",
      "14.986 cm (5.9)     2\n",
      "14.478 cm (5.7)     2\n",
      "16 cm (6.3)         2\n",
      "15.24 cm (6)        1\n",
      "10.16 cm (4)        1\n",
      "6.858 cm (2.7)      1\n",
      "7.62 cm (3)         1\n",
      "13.462 cm (5.3)     1\n",
      "6.096 cm (2.4)      1\n",
      "13.208 cm (5.2)     1\n",
      "11.938 cm (4.7)     1\n",
      "6.35 cm (2.5)       1\n",
      "15.95 cm (6.3)      1\n",
      "Name: Screen, dtype: int64\n",
      "\n",
      "13 MP                      39\n",
      "48MP+8MP+2MP+2MP           16\n",
      "8 MP                       14\n",
      "12 MP                      11\n",
      "5 MP                       10\n",
      "13MP+2MP                    9\n",
      "48 MP                       8\n",
      "48M+8M+2M+2M                7\n",
      "13MP + 2MP + 2MP            7\n",
      "16MP+8MP+2MP                6\n",
      "64MP                        5\n",
      "13MP+8MP+2MP                5\n",
      "12M+2M+2M                   4\n",
      "2 MP                        4\n",
      "64MP + 13MP + 8MP + 2MP     3\n",
      "21 MP                       2\n",
      "0.3 MP                      2\n",
      "12+8+2+2MP                  2\n",
      "16 MP                       2\n",
      "15 MP                       1\n",
      "24 MP                       1\n",
      "16 MP + 2 MP                1\n",
      "Name: Rear Camera, dtype: int64\n",
      "\n",
      "5 MP            42\n",
      "16 MP           40\n",
      "8 MP            38\n",
      "13 MP           10\n",
      "2 MP             9\n",
      "32 MP            5\n",
      "No               4\n",
      "20 MP            2\n",
      "44MP+2MP         2\n",
      "24MP             1\n",
      "13 MP + MP       1\n",
      "1.3 MP           1\n",
      "12 MP            1\n",
      "2MP to 4.9MP     1\n",
      "1 MP             1\n",
      "1.2 MP           1\n",
      "Name: Front Camera, dtype: int64\n",
      "\n",
      "32GB      47\n",
      "64GB      46\n",
      "128GB     38\n",
      "16GB      16\n",
      "8GB        5\n",
      "64 MB      2\n",
      "256 MB     2\n",
      "128 MB     2\n",
      "256GB      1\n",
      "Name: Memory, dtype: int64\n",
      "\n",
      "5000    47\n",
      "4000    20\n",
      "5020    10\n",
      "3000    10\n",
      "4015     8\n",
      "4230     8\n",
      "6000     6\n",
      "2500     6\n",
      "4300     4\n",
      "5030     4\n",
      "3100     3\n",
      "4500     3\n",
      "3020     3\n",
      "2350     3\n",
      "4025     2\n",
      "4100     2\n",
      "5035     2\n",
      "1000     2\n",
      "2300     1\n",
      "20       1\n",
      "4035     1\n",
      "2000     1\n",
      "2650     1\n",
      "2450     1\n",
      "2800     1\n",
      "5036     1\n",
      "3340     1\n",
      "3080     1\n",
      "5041     1\n",
      "2900     1\n",
      "850      1\n",
      "3400     1\n",
      "3500     1\n",
      "1810     1\n",
      "Name: Battery, dtype: int64\n",
      "\n",
      "Octa      113\n",
      "Quad       38\n",
      "Dual        6\n",
      "Single      2\n",
      "Name: Processor, dtype: int64\n",
      "\n"
     ]
    }
   ],
   "source": [
    "#frequency of object features\n",
    "for col in df.columns:\n",
    "    if df[col].dtype==\"object\":\n",
    "        print(df[col].value_counts())\n",
    "        print()"
   ]
  },
  {
   "cell_type": "code",
   "execution_count": 56,
   "metadata": {
    "scrolled": true
   },
   "outputs": [
    {
     "data": {
      "image/png": "[encoded data removed]",
      "text/plain": [
       "<Figure size 432x288 with 1 Axes>"
      ]
     },
     "metadata": {},
     "output_type": "display_data"
    }
   ],
   "source": [
    "sns.countplot(y=\"Processor\",data=df)\n",
    "plt.show()"
   ]
  },
  {
   "cell_type": "code",
   "execution_count": 57,
   "metadata": {},
   "outputs": [],
   "source": [
    "df[\"Rating\"].replace(\"Currently Unavailable\",\"0.0\",inplace=True)"
   ]
  },
  {
   "cell_type": "code",
   "execution_count": 58,
   "metadata": {},
   "outputs": [],
   "source": [
    "df[\"Rating\"] = df[\"Rating\"].astype(float) "
   ]
  },
  {
   "cell_type": "code",
   "execution_count": 59,
   "metadata": {},
   "outputs": [],
   "source": [
    "df[\"Price\"].replace(\"Currently Unavailable\",\"0\",inplace=True)"
   ]
  },
  {
   "cell_type": "code",
   "execution_count": 60,
   "metadata": {},
   "outputs": [],
   "source": [
    "df[\"Price\"] = df[\"Price\"].astype(int) "
   ]
  },
  {
   "cell_type": "code",
   "execution_count": 61,
   "metadata": {},
   "outputs": [
    {
     "data": {
      "text/plain": [
       "109999"
      ]
     },
     "execution_count": 61,
     "metadata": {},
     "output_type": "execute_result"
    }
   ],
   "source": [
    "df[\"Price\"].max()"
   ]
  },
  {
   "cell_type": "code",
   "execution_count": 62,
   "metadata": {
    "scrolled": true
   },
   "outputs": [
    {
     "data": {
      "image/png": "[encoded data removed]",
      "text/plain": [
       "<Figure size 432x288 with 1 Axes>"
      ]
     },
     "metadata": {},
     "output_type": "display_data"
    }
   ],
   "source": [
    "sns.barplot(y=\"Rating\",x=\"Processor\",data=df)\n",
    "plt.show()"
   ]
  },
  {
   "cell_type": "code",
   "execution_count": 63,
   "metadata": {},
   "outputs": [
    {
     "data": {
      "image/png": "[encoded data removed]",
      "text/plain": [
       "<Figure size 432x288 with 1 Axes>"
      ]
     },
     "metadata": {},
     "output_type": "display_data"
    }
   ],
   "source": [
    "sns.barplot(y=\"Rating\",x=\"Color\",data=df)\n",
    "plt.xticks(rotation=90)\n",
    "plt.show()"
   ]
  },
  {
   "cell_type": "code",
   "execution_count": 64,
   "metadata": {},
   "outputs": [
    {
     "data": {
      "image/png": "[encoded data removed]",
      "text/plain": [
       "<Figure size 432x288 with 1 Axes>"
      ]
     },
     "metadata": {},
     "output_type": "display_data"
    }
   ],
   "source": [
    "sns.barplot(x=\"Rating\",y=\"Price\",data=df)\n",
    "plt.xticks(rotation=90)\n",
    "plt.show()"
   ]
  },
  {
   "cell_type": "code",
   "execution_count": 65,
   "metadata": {},
   "outputs": [
    {
     "data": {
      "text/html": [
       "<div>\n",
       "<style scoped>\n",
       "    .dataframe tbody tr th:only-of-type {\n",
       "        vertical-align: middle;\n",
       "    }\n",
       "\n",
       "    .dataframe tbody tr th {\n",
       "        vertical-align: top;\n",
       "    }\n",
       "\n",
       "    .dataframe thead th {\n",
       "        text-align: right;\n",
       "    }\n",
       "</style>\n",
       "<table border=\"1\" class=\"dataframe\">\n",
       "  <thead>\n",
       "    <tr style=\"text-align: right;\">\n",
       "      <th></th>\n",
       "      <th>Prod Name</th>\n",
       "      <th>Color</th>\n",
       "      <th>Rating</th>\n",
       "      <th>Price</th>\n",
       "      <th>RAM</th>\n",
       "      <th>Screen</th>\n",
       "      <th>Rear Camera</th>\n",
       "      <th>Front Camera</th>\n",
       "      <th>Memory</th>\n",
       "      <th>Battery</th>\n",
       "      <th>Processor</th>\n",
       "    </tr>\n",
       "  </thead>\n",
       "  <tbody>\n",
       "    <tr>\n",
       "      <th>0</th>\n",
       "      <td>Redmi 9 Prime ( 64GB , 4 GB )</td>\n",
       "      <td>Blue</td>\n",
       "      <td>4.5</td>\n",
       "      <td>10799</td>\n",
       "      <td>4 GB</td>\n",
       "      <td>16.51 cm (6.5)</td>\n",
       "      <td>13MP+8MP+2MP</td>\n",
       "      <td>8 MP</td>\n",
       "      <td>64GB</td>\n",
       "      <td>5020</td>\n",
       "      <td>Octa</td>\n",
       "    </tr>\n",
       "    <tr>\n",
       "      <th>1</th>\n",
       "      <td>itel A25 pro ( 32GB , 2 GB )</td>\n",
       "      <td>Purple</td>\n",
       "      <td>4.0</td>\n",
       "      <td>5599</td>\n",
       "      <td>2 GB</td>\n",
       "      <td>12.7 cm (5)</td>\n",
       "      <td>5 MP</td>\n",
       "      <td>2 MP</td>\n",
       "      <td>32GB</td>\n",
       "      <td>3020</td>\n",
       "      <td>Quad</td>\n",
       "    </tr>\n",
       "    <tr>\n",
       "      <th>2</th>\n",
       "      <td>Redmi Note 9 ( 128GB , 4 GB )</td>\n",
       "      <td>Green</td>\n",
       "      <td>4.0</td>\n",
       "      <td>14499</td>\n",
       "      <td>4 GB</td>\n",
       "      <td>16.51 cm (6.5)</td>\n",
       "      <td>48 MP</td>\n",
       "      <td>13 MP</td>\n",
       "      <td>128GB</td>\n",
       "      <td>5020</td>\n",
       "      <td>Octa</td>\n",
       "    </tr>\n",
       "    <tr>\n",
       "      <th>3</th>\n",
       "      <td>Blackberry ( 16GB , 2 GB )</td>\n",
       "      <td>Black</td>\n",
       "      <td>3.4</td>\n",
       "      <td>6999</td>\n",
       "      <td>2 GB</td>\n",
       "      <td>12.7 cm (5)</td>\n",
       "      <td>8 MP</td>\n",
       "      <td>2MP to 4.9MP</td>\n",
       "      <td>16GB</td>\n",
       "      <td>2800</td>\n",
       "      <td>Dual</td>\n",
       "    </tr>\n",
       "    <tr>\n",
       "      <th>4</th>\n",
       "      <td>Redmi Note 9 ( 64GB , 4 GB )</td>\n",
       "      <td>Grey</td>\n",
       "      <td>4.4</td>\n",
       "      <td>13999</td>\n",
       "      <td>4 GB</td>\n",
       "      <td>16.51 cm (6.5)</td>\n",
       "      <td>48MP+8MP+2MP+2MP</td>\n",
       "      <td>13 MP</td>\n",
       "      <td>64GB</td>\n",
       "      <td>5020</td>\n",
       "      <td>Octa</td>\n",
       "    </tr>\n",
       "    <tr>\n",
       "      <th>...</th>\n",
       "      <td>...</td>\n",
       "      <td>...</td>\n",
       "      <td>...</td>\n",
       "      <td>...</td>\n",
       "      <td>...</td>\n",
       "      <td>...</td>\n",
       "      <td>...</td>\n",
       "      <td>...</td>\n",
       "      <td>...</td>\n",
       "      <td>...</td>\n",
       "      <td>...</td>\n",
       "    </tr>\n",
       "    <tr>\n",
       "      <th>154</th>\n",
       "      <td>Oppo A5 2020 ( 64GB , 4 GB )</td>\n",
       "      <td>Black</td>\n",
       "      <td>4.0</td>\n",
       "      <td>13990</td>\n",
       "      <td>4 GB</td>\n",
       "      <td>16.51 cm (6.5)</td>\n",
       "      <td>12 MP</td>\n",
       "      <td>8 MP</td>\n",
       "      <td>64GB</td>\n",
       "      <td>5000</td>\n",
       "      <td>Octa</td>\n",
       "    </tr>\n",
       "    <tr>\n",
       "      <th>155</th>\n",
       "      <td>Micromax Yu Yutopia 5050 ( 32GB , 4 GB )</td>\n",
       "      <td>Graphite</td>\n",
       "      <td>2.3</td>\n",
       "      <td>7099</td>\n",
       "      <td>4 GB</td>\n",
       "      <td>13.208 cm (5.2)</td>\n",
       "      <td>21 MP</td>\n",
       "      <td>8 MP</td>\n",
       "      <td>32GB</td>\n",
       "      <td>3000</td>\n",
       "      <td>Octa</td>\n",
       "    </tr>\n",
       "    <tr>\n",
       "      <th>156</th>\n",
       "      <td>Oppo F17 ( 128GB , 6 GB )</td>\n",
       "      <td>Blue</td>\n",
       "      <td>1.0</td>\n",
       "      <td>16990</td>\n",
       "      <td>6 GB</td>\n",
       "      <td>16.256 cm (6.4)</td>\n",
       "      <td>16MP+8MP+2MP</td>\n",
       "      <td>16 MP</td>\n",
       "      <td>128GB</td>\n",
       "      <td>4015</td>\n",
       "      <td>Quad</td>\n",
       "    </tr>\n",
       "    <tr>\n",
       "      <th>157</th>\n",
       "      <td>Oppo F17 ( 128GB , 6 GB )</td>\n",
       "      <td>Silver</td>\n",
       "      <td>1.0</td>\n",
       "      <td>16990</td>\n",
       "      <td>6 GB</td>\n",
       "      <td>16.256 cm (6.4)</td>\n",
       "      <td>16MP+8MP+2MP</td>\n",
       "      <td>16 MP</td>\n",
       "      <td>128GB</td>\n",
       "      <td>4015</td>\n",
       "      <td>Quad</td>\n",
       "    </tr>\n",
       "    <tr>\n",
       "      <th>158</th>\n",
       "      <td>Oppo F17 ( 128GB , 6 GB )</td>\n",
       "      <td>Orange</td>\n",
       "      <td>1.0</td>\n",
       "      <td>16990</td>\n",
       "      <td>6 GB</td>\n",
       "      <td>16.256 cm (6.4)</td>\n",
       "      <td>16MP+8MP+2MP</td>\n",
       "      <td>16 MP</td>\n",
       "      <td>128GB</td>\n",
       "      <td>4015</td>\n",
       "      <td>Quad</td>\n",
       "    </tr>\n",
       "  </tbody>\n",
       "</table>\n",
       "<p>159 rows × 11 columns</p>\n",
       "</div>"
      ],
      "text/plain": [
       "                                    Prod Name     Color  Rating  Price   RAM  \\\n",
       "0               Redmi 9 Prime ( 64GB , 4 GB )      Blue     4.5  10799  4 GB   \n",
       "1                itel A25 pro ( 32GB , 2 GB )    Purple     4.0   5599  2 GB   \n",
       "2               Redmi Note 9 ( 128GB , 4 GB )     Green     4.0  14499  4 GB   \n",
       "3                  Blackberry ( 16GB , 2 GB )     Black     3.4   6999  2 GB   \n",
       "4                Redmi Note 9 ( 64GB , 4 GB )      Grey     4.4  13999  4 GB   \n",
       "..                                        ...       ...     ...    ...   ...   \n",
       "154              Oppo A5 2020 ( 64GB , 4 GB )     Black     4.0  13990  4 GB   \n",
       "155  Micromax Yu Yutopia 5050 ( 32GB , 4 GB )  Graphite     2.3   7099  4 GB   \n",
       "156                 Oppo F17 ( 128GB , 6 GB )      Blue     1.0  16990  6 GB   \n",
       "157                 Oppo F17 ( 128GB , 6 GB )    Silver     1.0  16990  6 GB   \n",
       "158                 Oppo F17 ( 128GB , 6 GB )    Orange     1.0  16990  6 GB   \n",
       "\n",
       "              Screen       Rear Camera  Front Camera Memory Battery Processor  \n",
       "0     16.51 cm (6.5)      13MP+8MP+2MP          8 MP   64GB    5020      Octa  \n",
       "1        12.7 cm (5)              5 MP          2 MP   32GB    3020      Quad  \n",
       "2     16.51 cm (6.5)             48 MP         13 MP  128GB    5020      Octa  \n",
       "3        12.7 cm (5)              8 MP  2MP to 4.9MP   16GB    2800      Dual  \n",
       "4     16.51 cm (6.5)  48MP+8MP+2MP+2MP         13 MP   64GB    5020      Octa  \n",
       "..               ...               ...           ...    ...     ...       ...  \n",
       "154   16.51 cm (6.5)             12 MP          8 MP   64GB    5000      Octa  \n",
       "155  13.208 cm (5.2)             21 MP          8 MP   32GB    3000      Octa  \n",
       "156  16.256 cm (6.4)      16MP+8MP+2MP         16 MP  128GB    4015      Quad  \n",
       "157  16.256 cm (6.4)      16MP+8MP+2MP         16 MP  128GB    4015      Quad  \n",
       "158  16.256 cm (6.4)      16MP+8MP+2MP         16 MP  128GB    4015      Quad  \n",
       "\n",
       "[159 rows x 11 columns]"
      ]
     },
     "execution_count": 65,
     "metadata": {},
     "output_type": "execute_result"
    }
   ],
   "source": [
    "df"
   ]
  },
  {
   "cell_type": "code",
   "execution_count": 67,
   "metadata": {
    "scrolled": true
   },
   "outputs": [
    {
     "data": {
      "text/plain": [
       "['Redmi',\n",
       " 'itel',\n",
       " 'Redmi',\n",
       " 'Blackberry',\n",
       " 'Redmi',\n",
       " 'YU',\n",
       " 'Lava',\n",
       " 'Samsung',\n",
       " 'OPPO',\n",
       " 'Redmi',\n",
       " 'Lava',\n",
       " 'Micromax',\n",
       " 'Redmi',\n",
       " 'MI',\n",
       " 'TECNO',\n",
       " 'Redmi',\n",
       " 'Lenovo',\n",
       " 'Blackberry',\n",
       " 'Redmi',\n",
       " 'INFINIX',\n",
       " 'Redmi',\n",
       " 'Samsung',\n",
       " 'Xolo',\n",
       " 'Lava',\n",
       " 'Poco',\n",
       " 'Redmi',\n",
       " 'Karbonn',\n",
       " 'Redmi',\n",
       " 'Oppo',\n",
       " 'YU',\n",
       " 'Xolo',\n",
       " 'Redmi',\n",
       " 'Redmi',\n",
       " 'Realme',\n",
       " 'Realme',\n",
       " 'Redmi',\n",
       " 'Redmi',\n",
       " 'SAM',\n",
       " 'Panasonic',\n",
       " 'Redmi',\n",
       " 'Redmi',\n",
       " 'Realme',\n",
       " 'Realme',\n",
       " 'itel',\n",
       " 'Honor',\n",
       " 'Redmi',\n",
       " 'Redmi',\n",
       " 'Panasonic',\n",
       " 'Karbonn',\n",
       " 'Redmi',\n",
       " 'TECNO',\n",
       " 'Realme',\n",
       " 'Realme',\n",
       " 'Realme',\n",
       " 'Redmi',\n",
       " 'YU',\n",
       " 'INFINIX',\n",
       " 'Redmi',\n",
       " 'Samsung',\n",
       " 'Realme',\n",
       " 'Realme',\n",
       " 'Redmi',\n",
       " 'Realme',\n",
       " 'Samsung',\n",
       " 'Redmi',\n",
       " 'REDMI',\n",
       " 'INFINIX',\n",
       " 'Swipe',\n",
       " 'INFINIX',\n",
       " 'Redmi',\n",
       " 'OnePlus',\n",
       " 'Redmi',\n",
       " 'Redmi',\n",
       " 'Samsung',\n",
       " 'Redmi',\n",
       " 'Poco',\n",
       " 'Redmi',\n",
       " 'Realme',\n",
       " 'Realme',\n",
       " 'Redmi',\n",
       " 'Realme',\n",
       " 'Redmi',\n",
       " 'INFINIX',\n",
       " 'Redmi',\n",
       " 'Oppo',\n",
       " 'Realme',\n",
       " '1',\n",
       " 'Poco',\n",
       " 'Redmi',\n",
       " 'Redmi',\n",
       " 'Redmi',\n",
       " 'OnePlus',\n",
       " 'itel',\n",
       " 'itel',\n",
       " 'Realme',\n",
       " 'Poco',\n",
       " 'Samsung',\n",
       " 'INDIAN',\n",
       " 'Samsung',\n",
       " 'Samsung',\n",
       " 'TECNO',\n",
       " 'Panasonic',\n",
       " 'Realme',\n",
       " 'Coolpad',\n",
       " 'Realme',\n",
       " 'Moto',\n",
       " 'vivo',\n",
       " 'VOTO',\n",
       " 'Oppo',\n",
       " 'Huawei',\n",
       " 'Oppo',\n",
       " 'Lenovo',\n",
       " 'Oppo',\n",
       " 'I-Smart',\n",
       " 'Oppo',\n",
       " 'VOTO',\n",
       " 'Oppo',\n",
       " 'itel',\n",
       " 'Oppo',\n",
       " 'TECNO',\n",
       " 'Oppo',\n",
       " 'Intex',\n",
       " 'Oppo',\n",
       " 'Lenovo',\n",
       " 'Oppo',\n",
       " 'Lenovo',\n",
       " 'Oppo',\n",
       " 'Xiaomi',\n",
       " 'Oppo',\n",
       " 'INFINIX',\n",
       " 'Oppo',\n",
       " 'Swipe',\n",
       " 'Oppo',\n",
       " 'Intex',\n",
       " 'OPPO',\n",
       " 'Nokia',\n",
       " 'Oppo',\n",
       " 'Swipe',\n",
       " 'Oppo',\n",
       " 'Motorola',\n",
       " 'Oppo',\n",
       " 'Swipe',\n",
       " 'Oppo',\n",
       " 'Redmi',\n",
       " 'Oppo',\n",
       " 'Oppo',\n",
       " 'Oppo',\n",
       " 'Oppo',\n",
       " 'Oppo',\n",
       " 'Oppo',\n",
       " 'Oppo',\n",
       " 'Oppo',\n",
       " 'Oppo',\n",
       " 'Oppo',\n",
       " 'Oppo',\n",
       " 'Micromax',\n",
       " 'Oppo',\n",
       " 'Oppo',\n",
       " 'Oppo']"
      ]
     },
     "execution_count": 67,
     "metadata": {},
     "output_type": "execute_result"
    }
   ],
   "source": [
    "Prod_brand = [i.split(\" \")[0] for i in df[\"Prod Name\"]]\n",
    "Prod_brand\n",
    "#new column of brands created"
   ]
  },
  {
   "cell_type": "code",
   "execution_count": 68,
   "metadata": {},
   "outputs": [
    {
     "data": {
      "text/html": [
       "<div>\n",
       "<style scoped>\n",
       "    .dataframe tbody tr th:only-of-type {\n",
       "        vertical-align: middle;\n",
       "    }\n",
       "\n",
       "    .dataframe tbody tr th {\n",
       "        vertical-align: top;\n",
       "    }\n",
       "\n",
       "    .dataframe thead th {\n",
       "        text-align: right;\n",
       "    }\n",
       "</style>\n",
       "<table border=\"1\" class=\"dataframe\">\n",
       "  <thead>\n",
       "    <tr style=\"text-align: right;\">\n",
       "      <th></th>\n",
       "      <th>Prod Brand</th>\n",
       "      <th>Prod Name</th>\n",
       "      <th>Color</th>\n",
       "      <th>Rating</th>\n",
       "      <th>Price</th>\n",
       "      <th>RAM</th>\n",
       "      <th>Screen</th>\n",
       "      <th>Rear Camera</th>\n",
       "      <th>Front Camera</th>\n",
       "      <th>Memory</th>\n",
       "      <th>Battery</th>\n",
       "      <th>Processor</th>\n",
       "    </tr>\n",
       "  </thead>\n",
       "  <tbody>\n",
       "    <tr>\n",
       "      <th>0</th>\n",
       "      <td>Redmi</td>\n",
       "      <td>Redmi 9 Prime ( 64GB , 4 GB )</td>\n",
       "      <td>Blue</td>\n",
       "      <td>4.5</td>\n",
       "      <td>10799</td>\n",
       "      <td>4 GB</td>\n",
       "      <td>16.51 cm (6.5)</td>\n",
       "      <td>13MP+8MP+2MP</td>\n",
       "      <td>8 MP</td>\n",
       "      <td>64GB</td>\n",
       "      <td>5020</td>\n",
       "      <td>Octa</td>\n",
       "    </tr>\n",
       "    <tr>\n",
       "      <th>1</th>\n",
       "      <td>itel</td>\n",
       "      <td>itel A25 pro ( 32GB , 2 GB )</td>\n",
       "      <td>Purple</td>\n",
       "      <td>4.0</td>\n",
       "      <td>5599</td>\n",
       "      <td>2 GB</td>\n",
       "      <td>12.7 cm (5)</td>\n",
       "      <td>5 MP</td>\n",
       "      <td>2 MP</td>\n",
       "      <td>32GB</td>\n",
       "      <td>3020</td>\n",
       "      <td>Quad</td>\n",
       "    </tr>\n",
       "    <tr>\n",
       "      <th>2</th>\n",
       "      <td>Redmi</td>\n",
       "      <td>Redmi Note 9 ( 128GB , 4 GB )</td>\n",
       "      <td>Green</td>\n",
       "      <td>4.0</td>\n",
       "      <td>14499</td>\n",
       "      <td>4 GB</td>\n",
       "      <td>16.51 cm (6.5)</td>\n",
       "      <td>48 MP</td>\n",
       "      <td>13 MP</td>\n",
       "      <td>128GB</td>\n",
       "      <td>5020</td>\n",
       "      <td>Octa</td>\n",
       "    </tr>\n",
       "    <tr>\n",
       "      <th>3</th>\n",
       "      <td>Blackberry</td>\n",
       "      <td>Blackberry ( 16GB , 2 GB )</td>\n",
       "      <td>Black</td>\n",
       "      <td>3.4</td>\n",
       "      <td>6999</td>\n",
       "      <td>2 GB</td>\n",
       "      <td>12.7 cm (5)</td>\n",
       "      <td>8 MP</td>\n",
       "      <td>2MP to 4.9MP</td>\n",
       "      <td>16GB</td>\n",
       "      <td>2800</td>\n",
       "      <td>Dual</td>\n",
       "    </tr>\n",
       "    <tr>\n",
       "      <th>4</th>\n",
       "      <td>Redmi</td>\n",
       "      <td>Redmi Note 9 ( 64GB , 4 GB )</td>\n",
       "      <td>Grey</td>\n",
       "      <td>4.4</td>\n",
       "      <td>13999</td>\n",
       "      <td>4 GB</td>\n",
       "      <td>16.51 cm (6.5)</td>\n",
       "      <td>48MP+8MP+2MP+2MP</td>\n",
       "      <td>13 MP</td>\n",
       "      <td>64GB</td>\n",
       "      <td>5020</td>\n",
       "      <td>Octa</td>\n",
       "    </tr>\n",
       "    <tr>\n",
       "      <th>...</th>\n",
       "      <td>...</td>\n",
       "      <td>...</td>\n",
       "      <td>...</td>\n",
       "      <td>...</td>\n",
       "      <td>...</td>\n",
       "      <td>...</td>\n",
       "      <td>...</td>\n",
       "      <td>...</td>\n",
       "      <td>...</td>\n",
       "      <td>...</td>\n",
       "      <td>...</td>\n",
       "      <td>...</td>\n",
       "    </tr>\n",
       "    <tr>\n",
       "      <th>154</th>\n",
       "      <td>Oppo</td>\n",
       "      <td>Oppo A5 2020 ( 64GB , 4 GB )</td>\n",
       "      <td>Black</td>\n",
       "      <td>4.0</td>\n",
       "      <td>13990</td>\n",
       "      <td>4 GB</td>\n",
       "      <td>16.51 cm (6.5)</td>\n",
       "      <td>12 MP</td>\n",
       "      <td>8 MP</td>\n",
       "      <td>64GB</td>\n",
       "      <td>5000</td>\n",
       "      <td>Octa</td>\n",
       "    </tr>\n",
       "    <tr>\n",
       "      <th>155</th>\n",
       "      <td>Micromax</td>\n",
       "      <td>Micromax Yu Yutopia 5050 ( 32GB , 4 GB )</td>\n",
       "      <td>Graphite</td>\n",
       "      <td>2.3</td>\n",
       "      <td>7099</td>\n",
       "      <td>4 GB</td>\n",
       "      <td>13.208 cm (5.2)</td>\n",
       "      <td>21 MP</td>\n",
       "      <td>8 MP</td>\n",
       "      <td>32GB</td>\n",
       "      <td>3000</td>\n",
       "      <td>Octa</td>\n",
       "    </tr>\n",
       "    <tr>\n",
       "      <th>156</th>\n",
       "      <td>Oppo</td>\n",
       "      <td>Oppo F17 ( 128GB , 6 GB )</td>\n",
       "      <td>Blue</td>\n",
       "      <td>1.0</td>\n",
       "      <td>16990</td>\n",
       "      <td>6 GB</td>\n",
       "      <td>16.256 cm (6.4)</td>\n",
       "      <td>16MP+8MP+2MP</td>\n",
       "      <td>16 MP</td>\n",
       "      <td>128GB</td>\n",
       "      <td>4015</td>\n",
       "      <td>Quad</td>\n",
       "    </tr>\n",
       "    <tr>\n",
       "      <th>157</th>\n",
       "      <td>Oppo</td>\n",
       "      <td>Oppo F17 ( 128GB , 6 GB )</td>\n",
       "      <td>Silver</td>\n",
       "      <td>1.0</td>\n",
       "      <td>16990</td>\n",
       "      <td>6 GB</td>\n",
       "      <td>16.256 cm (6.4)</td>\n",
       "      <td>16MP+8MP+2MP</td>\n",
       "      <td>16 MP</td>\n",
       "      <td>128GB</td>\n",
       "      <td>4015</td>\n",
       "      <td>Quad</td>\n",
       "    </tr>\n",
       "    <tr>\n",
       "      <th>158</th>\n",
       "      <td>Oppo</td>\n",
       "      <td>Oppo F17 ( 128GB , 6 GB )</td>\n",
       "      <td>Orange</td>\n",
       "      <td>1.0</td>\n",
       "      <td>16990</td>\n",
       "      <td>6 GB</td>\n",
       "      <td>16.256 cm (6.4)</td>\n",
       "      <td>16MP+8MP+2MP</td>\n",
       "      <td>16 MP</td>\n",
       "      <td>128GB</td>\n",
       "      <td>4015</td>\n",
       "      <td>Quad</td>\n",
       "    </tr>\n",
       "  </tbody>\n",
       "</table>\n",
       "<p>159 rows × 12 columns</p>\n",
       "</div>"
      ],
      "text/plain": [
       "     Prod Brand                                 Prod Name     Color  Rating  \\\n",
       "0         Redmi             Redmi 9 Prime ( 64GB , 4 GB )      Blue     4.5   \n",
       "1          itel              itel A25 pro ( 32GB , 2 GB )    Purple     4.0   \n",
       "2         Redmi             Redmi Note 9 ( 128GB , 4 GB )     Green     4.0   \n",
       "3    Blackberry                Blackberry ( 16GB , 2 GB )     Black     3.4   \n",
       "4         Redmi              Redmi Note 9 ( 64GB , 4 GB )      Grey     4.4   \n",
       "..          ...                                       ...       ...     ...   \n",
       "154        Oppo              Oppo A5 2020 ( 64GB , 4 GB )     Black     4.0   \n",
       "155    Micromax  Micromax Yu Yutopia 5050 ( 32GB , 4 GB )  Graphite     2.3   \n",
       "156        Oppo                 Oppo F17 ( 128GB , 6 GB )      Blue     1.0   \n",
       "157        Oppo                 Oppo F17 ( 128GB , 6 GB )    Silver     1.0   \n",
       "158        Oppo                 Oppo F17 ( 128GB , 6 GB )    Orange     1.0   \n",
       "\n",
       "     Price   RAM           Screen       Rear Camera  Front Camera Memory  \\\n",
       "0    10799  4 GB   16.51 cm (6.5)      13MP+8MP+2MP          8 MP   64GB   \n",
       "1     5599  2 GB      12.7 cm (5)              5 MP          2 MP   32GB   \n",
       "2    14499  4 GB   16.51 cm (6.5)             48 MP         13 MP  128GB   \n",
       "3     6999  2 GB      12.7 cm (5)              8 MP  2MP to 4.9MP   16GB   \n",
       "4    13999  4 GB   16.51 cm (6.5)  48MP+8MP+2MP+2MP         13 MP   64GB   \n",
       "..     ...   ...              ...               ...           ...    ...   \n",
       "154  13990  4 GB   16.51 cm (6.5)             12 MP          8 MP   64GB   \n",
       "155   7099  4 GB  13.208 cm (5.2)             21 MP          8 MP   32GB   \n",
       "156  16990  6 GB  16.256 cm (6.4)      16MP+8MP+2MP         16 MP  128GB   \n",
       "157  16990  6 GB  16.256 cm (6.4)      16MP+8MP+2MP         16 MP  128GB   \n",
       "158  16990  6 GB  16.256 cm (6.4)      16MP+8MP+2MP         16 MP  128GB   \n",
       "\n",
       "    Battery Processor  \n",
       "0      5020      Octa  \n",
       "1      3020      Quad  \n",
       "2      5020      Octa  \n",
       "3      2800      Dual  \n",
       "4      5020      Octa  \n",
       "..      ...       ...  \n",
       "154    5000      Octa  \n",
       "155    3000      Octa  \n",
       "156    4015      Quad  \n",
       "157    4015      Quad  \n",
       "158    4015      Quad  \n",
       "\n",
       "[159 rows x 12 columns]"
      ]
     },
     "execution_count": 68,
     "metadata": {},
     "output_type": "execute_result"
    }
   ],
   "source": [
    "df.insert(loc=0, column='Prod Brand', value=Prod_brand)\n",
    "df\n",
    "#final dataset"
   ]
  },
  {
   "cell_type": "code",
   "execution_count": 73,
   "metadata": {
    "scrolled": true
   },
   "outputs": [
    {
     "data": {
      "text/plain": [
       "Index(['Prod Brand', 'Prod Name', 'Color', 'Rating', 'Price', 'RAM', 'Screen',\n",
       "       'Rear Camera', 'Front Camera', 'Memory', 'Battery', 'Processor'],\n",
       "      dtype='object')"
      ]
     },
     "execution_count": 73,
     "metadata": {},
     "output_type": "execute_result"
    }
   ],
   "source": [
    "df.columns"
   ]
  },
  {
   "cell_type": "code",
   "execution_count": 69,
   "metadata": {},
   "outputs": [
    {
     "data": {
      "image/png": "[encoded data removed]",
      "text/plain": [
       "<Figure size 432x288 with 1 Axes>"
      ]
     },
     "metadata": {},
     "output_type": "display_data"
    }
   ],
   "source": [
    "sns.countplot(x=\"Prod Brand\",data=df)\n",
    "plt.xticks(rotation=90)\n",
    "plt.show()\n",
    "#We see redmi oppo realme with most products in snapdeal. People buy more of these products."
   ]
  },
  {
   "cell_type": "code",
   "execution_count": 70,
   "metadata": {},
   "outputs": [
    {
     "data": {
      "image/png": "[encoded data removed]",
      "text/plain": [
       "<Figure size 432x288 with 1 Axes>"
      ]
     },
     "metadata": {},
     "output_type": "display_data"
    }
   ],
   "source": [
    "sns.barplot(x=\"Prod Brand\",y=\"Rating\",data=df)\n",
    "plt.xticks(rotation=90)\n",
    "plt.show()"
   ]
  },
  {
   "cell_type": "code",
   "execution_count": 72,
   "metadata": {},
   "outputs": [
    {
     "data": {
      "image/png": "[encoded data removed]",
      "text/plain": [
       "<Figure size 432x288 with 1 Axes>"
      ]
     },
     "metadata": {},
     "output_type": "display_data"
    }
   ],
   "source": [
    "sns.barplot(x=\"Prod Brand\",y=\"Price\",data=df)\n",
    "plt.xticks(rotation=90)\n",
    "plt.show()\n",
    "#Most phones are below 20000 range in snapdeal."
   ]
  },
  {
   "cell_type": "code",
   "execution_count": 74,
   "metadata": {},
   "outputs": [
    {
     "data": {
      "image/png": "[encoded data removed]",
      "text/plain": [
       "<Figure size 432x288 with 1 Axes>"
      ]
     },
     "metadata": {},
     "output_type": "display_data"
    }
   ],
   "source": [
    "sns.countplot(y=\"RAM\",data=df)\n",
    "plt.show()\n",
    "#Most product are of 4 GB RAM in snapdeal. People buy more products with 4 GB RAM."
   ]
  },
  {
   "cell_type": "code",
   "execution_count": 75,
   "metadata": {},
   "outputs": [
    {
     "data": {
      "image/png": "[encoded data removed]",
      "text/plain": [
       "<Figure size 432x288 with 1 Axes>"
      ]
     },
     "metadata": {},
     "output_type": "display_data"
    }
   ],
   "source": [
    "sns.barplot(x=\"Rating\",y=\"RAM\",data=df)\n",
    "plt.xticks(rotation=90)\n",
    "plt.show()"
   ]
  },
  {
   "cell_type": "code",
   "execution_count": 76,
   "metadata": {},
   "outputs": [
    {
     "data": {
      "image/png": "[encoded data removed]",
      "text/plain": [
       "<Figure size 432x288 with 1 Axes>"
      ]
     },
     "metadata": {},
     "output_type": "display_data"
    }
   ],
   "source": [
    "sns.barplot(x=\"Price\",y=\"RAM\",data=df)\n",
    "plt.xticks(rotation=90)\n",
    "plt.show()"
   ]
  },
  {
   "cell_type": "code",
   "execution_count": 77,
   "metadata": {},
   "outputs": [
    {
     "data": {
      "image/png": "[encoded data removed]",
      "text/plain": [
       "<Figure size 432x288 with 1 Axes>"
      ]
     },
     "metadata": {},
     "output_type": "display_data"
    }
   ],
   "source": [
    "sns.countplot(y=\"Screen\",data=df)\n",
    "plt.show()\n",
    "#Maximum phones have screen of 16.51 cm range "
   ]
  },
  {
   "cell_type": "code",
   "execution_count": 78,
   "metadata": {},
   "outputs": [
    {
     "data": {
      "image/png": "[encoded data removed]",
      "text/plain": [
       "<Figure size 432x288 with 1 Axes>"
      ]
     },
     "metadata": {},
     "output_type": "display_data"
    }
   ],
   "source": [
    "sns.barplot(x=\"Rating\",y=\"Screen\",data=df)\n",
    "plt.xticks(rotation=90)\n",
    "plt.show()\n",
    "#In above plot we see people rated the highest for the biggest screen size available in snapdeal."
   ]
  },
  {
   "cell_type": "code",
   "execution_count": 79,
   "metadata": {},
   "outputs": [
    {
     "data": {
      "image/png": "[encoded data removed]",
      "text/plain": [
       "<Figure size 432x288 with 1 Axes>"
      ]
     },
     "metadata": {},
     "output_type": "display_data"
    }
   ],
   "source": [
    "sns.barplot(x=\"Price\",y=\"Screen\",data=df)\n",
    "plt.xticks(rotation=90)\n",
    "plt.show()"
   ]
  },
  {
   "cell_type": "code",
   "execution_count": 82,
   "metadata": {},
   "outputs": [
    {
     "data": {
      "image/png": "[encoded data removed]",
      "text/plain": [
       "<Figure size 432x288 with 1 Axes>"
      ]
     },
     "metadata": {},
     "output_type": "display_data"
    }
   ],
   "source": [
    "sns.countplot(x=\"Battery\",data=df)\n",
    "plt.xticks(rotation=90)\n",
    "plt.show()\n",
    "#Most phones have battery capacity of 5000mAh."
   ]
  },
  {
   "cell_type": "code",
   "execution_count": 83,
   "metadata": {
    "scrolled": true
   },
   "outputs": [
    {
     "data": {
      "image/png": "[encoded data removed]",
      "text/plain": [
       "<Figure size 432x288 with 1 Axes>"
      ]
     },
     "metadata": {},
     "output_type": "display_data"
    }
   ],
   "source": [
    "sns.barplot(x=\"Price\",y=\"Memory\",data=df)\n",
    "plt.xticks(rotation=90)\n",
    "plt.show()"
   ]
  },
  {
   "cell_type": "code",
   "execution_count": 88,
   "metadata": {},
   "outputs": [
    {
     "data": {
      "image/png": "[encoded data removed]",
      "text/plain": [
       "<Figure size 432x288 with 1 Axes>"
      ]
     },
     "metadata": {},
     "output_type": "display_data"
    }
   ],
   "source": [
    "sns.barplot(x=\"Rating\",y=\"Memory\",data=df)\n",
    "plt.xticks(rotation=90)\n",
    "plt.show()"
   ]
  },
  {
   "cell_type": "code",
   "execution_count": 89,
   "metadata": {},
   "outputs": [
    {
     "data": {
      "image/png": "[encoded data removed]",
      "text/plain": [
       "<Figure size 432x288 with 1 Axes>"
      ]
     },
     "metadata": {},
     "output_type": "display_data"
    }
   ],
   "source": [
    "sns.countplot(x=\"Memory\",data=df)\n",
    "plt.xticks(rotation=90)\n",
    "plt.show()\n",
    "#34 & 64 GB memory phones are in better price range."
   ]
  },
  {
   "cell_type": "code",
   "execution_count": 90,
   "metadata": {},
   "outputs": [
    {
     "data": {
      "image/png": "[encoded data removed]",
      "text/plain": [
       "<Figure size 432x288 with 1 Axes>"
      ]
     },
     "metadata": {},
     "output_type": "display_data"
    }
   ],
   "source": [
    "sns.countplot(x=\"Rear Camera\",data=df)\n",
    "plt.xticks(rotation=90)\n",
    "plt.show()\n",
    "#Maximum phones are of 13 MP rear camera."
   ]
  },
  {
   "cell_type": "code",
   "execution_count": 91,
   "metadata": {},
   "outputs": [
    {
     "data": {
      "image/png": "[encoded data removed]",
      "text/plain": [
       "<Figure size 432x288 with 1 Axes>"
      ]
     },
     "metadata": {},
     "output_type": "display_data"
    }
   ],
   "source": [
    "sns.countplot(x=\"Front Camera\",data=df)\n",
    "plt.xticks(rotation=90)\n",
    "plt.show()\n",
    "#Maximum phones are of  5 , 16, or 8 MP front camera."
   ]
  },
  {
   "cell_type": "code",
   "execution_count": 92,
   "metadata": {},
   "outputs": [
    {
     "data": {
      "image/png": "[encoded data removed]",
      "text/plain": [
       "<Figure size 432x288 with 1 Axes>"
      ]
     },
     "metadata": {},
     "output_type": "display_data"
    }
   ],
   "source": [
    "sns.barplot(x=\"Rating\",y=\"Front Camera\",data=df)\n",
    "plt.xticks(rotation=90)\n",
    "plt.show()"
   ]
  },
  {
   "cell_type": "code",
   "execution_count": 93,
   "metadata": {},
   "outputs": [
    {
     "data": {
      "image/png": "[encoded data removed]",
      "text/plain": [
       "<Figure size 432x288 with 1 Axes>"
      ]
     },
     "metadata": {},
     "output_type": "display_data"
    }
   ],
   "source": [
    "sns.barplot(x=\"Rating\",y=\"Rear Camera\",data=df)\n",
    "plt.xticks(rotation=90)\n",
    "plt.show()\n",
    "#Phones with 13+8+2MP rear camera are highly rated."
   ]
  },
  {
   "cell_type": "code",
   "execution_count": 95,
   "metadata": {
    "scrolled": true
   },
   "outputs": [
    {
     "data": {
      "image/png": "[encoded data removed]",
      "text/plain": [
       "<Figure size 432x288 with 1 Axes>"
      ]
     },
     "metadata": {},
     "output_type": "display_data"
    }
   ],
   "source": [
    "sns.barplot(x=\"Price\",y=\"Processor\",data=df)\n",
    "plt.xticks(rotation=90)\n",
    "plt.show()\n",
    "#As the processor power increases price also increases but few phones of quad core processors are highly rated."
   ]
  },
  {
   "cell_type": "code",
   "execution_count": 96,
   "metadata": {},
   "outputs": [
    {
     "data": {
      "image/png": "[encoded data removed]",
      "text/plain": [
       "<Figure size 432x288 with 1 Axes>"
      ]
     },
     "metadata": {},
     "output_type": "display_data"
    }
   ],
   "source": [
    "sns.barplot(x=\"Rating\",y=\"Processor\",data=df)\n",
    "plt.xticks(rotation=90)\n",
    "plt.show()\n",
    "#Ratings are also high for higher processor phones. Few quad core processor phones  are highly rated."
   ]
  },
  {
   "cell_type": "markdown",
   "metadata": {},
   "source": [
    "***"
   ]
  }
 ],
 "metadata": {
  "kernelspec": {
   "display_name": "Python 3",
   "language": "python",
   "name": "python3"
  },
  "language_info": {
   "codemirror_mode": {
    "name": "ipython",
    "version": 3
   },
   "file_extension": ".py",
   "mimetype": "text/x-python",
   "name": "python",
   "nbconvert_exporter": "python",
   "pygments_lexer": "ipython3",
   "version": "3.7.6"
  }
 },
 "nbformat": 4,
 "nbformat_minor": 4
}
